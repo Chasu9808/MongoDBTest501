{
 "cells": [
  {
   "cell_type": "code",
   "execution_count": 1,
   "metadata": {},
   "outputs": [
    {
     "name": "stdout",
     "output_type": "stream",
     "text": [
      "오늘 점심 뭐 먹죠?\n"
     ]
    }
   ],
   "source": [
    "print(\"오늘 점심 뭐 먹죠?\")"
   ]
  },
  {
   "cell_type": "code",
   "execution_count": 2,
   "metadata": {},
   "outputs": [
    {
     "name": "stdout",
     "output_type": "stream",
     "text": [
      "Note: you may need to restart the kernel to use updated packages.\n"
     ]
    },
    {
     "name": "stderr",
     "output_type": "stream",
     "text": [
      "\n",
      "[notice] A new release of pip is available: 24.0 -> 24.2\n",
      "[notice] To update, run: python.exe -m pip install --upgrade pip\n"
     ]
    },
    {
     "name": "stdout",
     "output_type": "stream",
     "text": [
      "Defaulting to user installation because normal site-packages is not writeable\n",
      "Collecting pymongo\n",
      "  Downloading pymongo-4.8.0-cp312-cp312-win_amd64.whl.metadata (22 kB)\n",
      "Collecting dnspython<3.0.0,>=1.16.0 (from pymongo)\n",
      "  Downloading dnspython-2.6.1-py3-none-any.whl.metadata (5.8 kB)\n",
      "Downloading pymongo-4.8.0-cp312-cp312-win_amd64.whl (680 kB)\n",
      "   ---------------------------------------- 0.0/680.4 kB ? eta -:--:--\n",
      "   ---- ----------------------------------- 71.7/680.4 kB 2.0 MB/s eta 0:00:01\n",
      "   ---------------------------- ----------- 481.3/680.4 kB 6.0 MB/s eta 0:00:01\n",
      "   ---------------------------------------- 680.4/680.4 kB 6.1 MB/s eta 0:00:00\n",
      "Downloading dnspython-2.6.1-py3-none-any.whl (307 kB)\n",
      "   ---------------------------------------- 0.0/307.7 kB ? eta -:--:--\n",
      "   --------------------------------------  307.2/307.7 kB 18.6 MB/s eta 0:00:01\n",
      "   ---------------------------------------- 307.7/307.7 kB 6.3 MB/s eta 0:00:00\n",
      "Installing collected packages: dnspython, pymongo\n",
      "Successfully installed dnspython-2.6.1 pymongo-4.8.0\n"
     ]
    }
   ],
   "source": [
    "pip install pymongo"
   ]
  },
  {
   "cell_type": "code",
   "execution_count": 3,
   "metadata": {},
   "outputs": [],
   "source": [
    "from pymongo import MongoClient\n",
    "\n",
    "client = MongoClient() # 클래스 객체 할당\n",
    "client = MongoClient('localhost', 27017) "
   ]
  },
  {
   "cell_type": "code",
   "execution_count": 5,
   "metadata": {},
   "outputs": [
    {
     "name": "stdout",
     "output_type": "stream",
     "text": [
      "{'_id': ObjectId('66a053728680861c3bbd14f0'), 'item': 'journal', 'qty': 25, 'tags': ['blank', 'red']}\n",
      "{'_id': ObjectId('66a053728680861c3bbd14f1'), 'item': 'notebook', 'qty': 50, 'tags': ['red', 'blank']}\n",
      "{'_id': ObjectId('66a053728680861c3bbd14f2'), 'item': 'paper', 'qty': 100, 'tags': ['yellow', 'pink']}\n",
      "{'_id': ObjectId('66a053728680861c3bbd14f3'), 'item': 'planner', 'qty': 75, 'tags': ['blank', 'red']}\n",
      "{'_id': ObjectId('66a053728680861c3bbd14f4'), 'item': 'postcard', 'qty': 45, 'tags': ['blue']}\n"
     ]
    }
   ],
   "source": [
    "import pymongo\n",
    "\n",
    "connection = pymongo.MongoClient(\"localhost\", 27017)\n",
    "# test 데이터 베이스 선택\n",
    "db = connection.test\n",
    "# 컬렉션 선택, inventory\n",
    "collection = db.inventory\n",
    "# 단순 전체 조회 \n",
    "docs = collection.find()\n",
    "for i in docs: \n",
    "    print(i)"
   ]
  },
  {
   "cell_type": "code",
   "execution_count": 6,
   "metadata": {},
   "outputs": [
    {
     "name": "stderr",
     "output_type": "stream",
     "text": [
      "C:\\Users\\it\\AppData\\Local\\Temp\\ipykernel_2808\\3896609540.py:4: DeprecationWarning: datetime.datetime.utcnow() is deprecated and scheduled for removal in a future version. Use timezone-aware objects to represent datetimes in UTC: datetime.datetime.now(datetime.UTC).\n",
      "  \"tags\" : [\"mongodb\", \"python\", \"pymongo\"], \"date\": datetime.datetime.utcnow()\n"
     ]
    },
    {
     "data": {
      "text/plain": [
       "InsertOneResult(ObjectId('66a6ec4fcaaed448e64e832f'), acknowledged=True)"
      ]
     },
     "execution_count": 6,
     "metadata": {},
     "output_type": "execute_result"
    }
   ],
   "source": [
    "# 단순 하나 입력\n",
    "import datetime\n",
    "post = { \n",
    "\"author\" : \"Mike\", \"text\" : \"My first blog post!\", \n",
    "\"tags\" : [\"mongodb\", \"python\", \"pymongo\"], \"date\": datetime.datetime.utcnow()\n",
    " }\n",
    "collection = db.inventory\n",
    "collection.insert_one(post)\n",
    "\n"
   ]
  },
  {
   "cell_type": "markdown",
   "metadata": {},
   "source": [
    "스프링, 몽고 디비와 연결한 샘플 프로젝트, \n",
    "단순, crud 랑, 필터 등 확인 가능. \n",
    "인텔리 제이로 깃 클론 해야함. \n",
    "깃 주소 \n",
    "2.7.8버전\n",
    "https://github.com/lsy3709/SpringBoot_MongoDB_Connect_Test.git\n",
    "\n",
    "3.1.2 버전 \n",
    "https://github.com/lsy3709/SpringBoot_MongoDB_Connect_Test2\n"
   ]
  },
  {
   "cell_type": "code",
   "execution_count": null,
   "metadata": {},
   "outputs": [],
   "source": [
    "# 스프링, 몽고 디비와 연결한 샘플 프로젝트, \n",
    "# 단순, crud 랑, 필터 등 확인 가능. \n",
    "# 인텔리 제이로 깃 클론 해야함. \n",
    "# 깃 주소 \n",
    "# https://github.com/lsy3709/SpringBoot_MongoDB_Connect_Test.git\n",
    "\n",
    "# 3.1.2 버전 \n",
    "# https://github.com/lsy3709/SpringBoot_MongoDB_Connect_Test2"
   ]
  }
 ],
 "metadata": {
  "kernelspec": {
   "display_name": "Python 3",
   "language": "python",
   "name": "python3"
  },
  "language_info": {
   "codemirror_mode": {
    "name": "ipython",
    "version": 3
   },
   "file_extension": ".py",
   "mimetype": "text/x-python",
   "name": "python",
   "nbconvert_exporter": "python",
   "pygments_lexer": "ipython3",
   "version": "3.12.4"
  }
 },
 "nbformat": 4,
 "nbformat_minor": 2
}
